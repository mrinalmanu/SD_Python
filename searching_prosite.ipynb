{
 "cells": [
  {
   "cell_type": "code",
   "execution_count": 1,
   "metadata": {
    "scrolled": true
   },
   "outputs": [],
   "source": [
    "# imports\n",
    "from bs4 import BeautifulSoup\n",
    "import requests\n",
    "import urllib.request\n",
    "import re"
   ]
  },
  {
   "cell_type": "code",
   "execution_count": 2,
   "metadata": {},
   "outputs": [],
   "source": [
    "def search_ps(which):\n",
    "    p_id = which\n",
    "    url = \"https://prosite.expasy.org/cgi-bin/prosite/get-prosite-entry?{}\".format(p_id)\n",
    "    page = urllib.request.urlopen(url)\n",
    "    soup = BeautifulSoup(page, \"html.parser\")\n",
    "        \n",
    "    #[s.extract() for s in soup(['style', 'script', '[document]', 'head', 'title'])]\n",
    "    info = soup.getText()\n",
    "            \n",
    "    return(info)"
   ]
  },
  {
   "cell_type": "code",
   "execution_count": 3,
   "metadata": {},
   "outputs": [],
   "source": [
    "def get_active_site_without_regex(raw):\n",
    "    drive = raw.split('\\n')\n",
    "    id_info_raw = str([i for i in drive if i.startswith('ID')])\n",
    "    id_info  = id_info_raw.replace(\"['ID   \", \"\")\n",
    "    id_info = id_info.replace(\".']\", \"\")\n",
    "    active_site_raw = str([i for i in drive if i.startswith('PA')])\n",
    "    active_site = active_site_raw.replace(\"['PA   \", \"\")\n",
    "    active_site = active_site.replace(\".']\", \"\")\n",
    "    \n",
    "    return id_info, active_site\n",
    "        "
   ]
  },
  {
   "cell_type": "code",
   "execution_count": 4,
   "metadata": {},
   "outputs": [],
   "source": [
    "def get_active_site_using_regex(raw):\n",
    "    id_info_raw = str(re.findall(\"\\\\nID   .*\\.\", raw))\n",
    "    id_info  = id_info_raw.replace(\"['\\\\nID   \", \"\")\n",
    "    id_info = id_info.replace(\".']\", \"\")\n",
    "    active_site_raw = str(re.findall(\"\\\\nPA   .*\\.\", raw))\n",
    "    active_site = active_site_raw.replace(\"['\\\\nPA   \", \"\")\n",
    "    active_site = active_site.replace(\".']\", \"\")\n",
    "    \n",
    "    return id_info, active_site\n",
    "    "
   ]
  },
  {
   "cell_type": "code",
   "execution_count": 5,
   "metadata": {
    "scrolled": false
   },
   "outputs": [
    {
     "data": {
      "text/plain": [
       "('ISOCITRATE_LYASE; PATTERN', 'K-[KR]-C-G-H-[LMQR]')"
      ]
     },
     "execution_count": 5,
     "metadata": {},
     "output_type": "execute_result"
    }
   ],
   "source": [
    "prosite_raw = search_ps('PS00161')\n",
    "get_active_site_without_regex(prosite_raw)\n"
   ]
  },
  {
   "cell_type": "code",
   "execution_count": 6,
   "metadata": {
    "scrolled": false
   },
   "outputs": [
    {
     "data": {
      "text/plain": [
       "('ISOCITRATE_LYASE; PATTERN', 'K-[KR]-C-G-H-[LMQR]')"
      ]
     },
     "execution_count": 6,
     "metadata": {},
     "output_type": "execute_result"
    }
   ],
   "source": [
    "get_active_site_using_regex(prosite_raw)"
   ]
  },
  {
   "cell_type": "code",
   "execution_count": 7,
   "metadata": {},
   "outputs": [
    {
     "data": {
      "text/plain": [
       "('ZF_RING_1; PATTERN', 'C-x-H-x-[LIVMFY]-C-x(2)-C-[LIVMYA]')"
      ]
     },
     "execution_count": 7,
     "metadata": {},
     "output_type": "execute_result"
    }
   ],
   "source": [
    "# Let's try with one more prosite entry ZFN : PS50089\n",
    "prosite_raw = search_ps('PS00518')\n",
    "get_active_site_without_regex(prosite_raw)"
   ]
  },
  {
   "cell_type": "code",
   "execution_count": 8,
   "metadata": {},
   "outputs": [
    {
     "data": {
      "text/plain": [
       "('ZF_RING_1; PATTERN', 'C-x-H-x-[LIVMFY]-C-x(2)-C-[LIVMYA]')"
      ]
     },
     "execution_count": 8,
     "metadata": {},
     "output_type": "execute_result"
    }
   ],
   "source": [
    "get_active_site_using_regex(prosite_raw)"
   ]
  },
  {
   "cell_type": "code",
   "execution_count": 9,
   "metadata": {},
   "outputs": [
    {
     "data": {
      "text/plain": [
       "('KINESIN_MOTOR_1; PATTERN',\n",
       " '[GSAT]-[KRHPSTQVME]-[LIVMFY]-x-[LIVMF]-[IVC]-[DN]-[LS]-[AH]-G-[SAN]-E')"
      ]
     },
     "execution_count": 9,
     "metadata": {},
     "output_type": "execute_result"
    }
   ],
   "source": [
    "# some random unkown prosite id\n",
    "prosite_raw = search_ps('PS00411')\n",
    "get_active_site_without_regex(prosite_raw)\n"
   ]
  },
  {
   "cell_type": "code",
   "execution_count": 10,
   "metadata": {},
   "outputs": [
    {
     "data": {
      "text/plain": [
       "('KINESIN_MOTOR_1; PATTERN',\n",
       " '[GSAT]-[KRHPSTQVME]-[LIVMFY]-x-[LIVMF]-[IVC]-[DN]-[LS]-[AH]-G-[SAN]-E')"
      ]
     },
     "execution_count": 10,
     "metadata": {},
     "output_type": "execute_result"
    }
   ],
   "source": [
    "get_active_site_using_regex(prosite_raw)"
   ]
  },
  {
   "cell_type": "code",
   "execution_count": 11,
   "metadata": {},
   "outputs": [],
   "source": [
    "# so the given ID belongs to Kinesin motor protein with consensus sequence"
   ]
  },
  {
   "cell_type": "code",
   "execution_count": null,
   "metadata": {},
   "outputs": [],
   "source": []
  }
 ],
 "metadata": {
  "kernelspec": {
   "display_name": "Python 3",
   "language": "python",
   "name": "python3"
  },
  "language_info": {
   "codemirror_mode": {
    "name": "ipython",
    "version": 3
   },
   "file_extension": ".py",
   "mimetype": "text/x-python",
   "name": "python",
   "nbconvert_exporter": "python",
   "pygments_lexer": "ipython3",
   "version": "3.7.3"
  },
  "varInspector": {
   "cols": {
    "lenName": 16,
    "lenType": 16,
    "lenVar": 40
   },
   "kernels_config": {
    "python": {
     "delete_cmd_postfix": "",
     "delete_cmd_prefix": "del ",
     "library": "var_list.py",
     "varRefreshCmd": "print(var_dic_list())"
    },
    "r": {
     "delete_cmd_postfix": ") ",
     "delete_cmd_prefix": "rm(",
     "library": "var_list.r",
     "varRefreshCmd": "cat(var_dic_list()) "
    }
   },
   "types_to_exclude": [
    "module",
    "function",
    "builtin_function_or_method",
    "instance",
    "_Feature"
   ],
   "window_display": false
  }
 },
 "nbformat": 4,
 "nbformat_minor": 2
}
